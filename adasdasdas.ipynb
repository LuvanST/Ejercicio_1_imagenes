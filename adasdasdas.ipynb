{
 "cells": [
  {
   "cell_type": "code",
   "execution_count": 1,
   "metadata": {},
   "outputs": [
    {
     "name": "stderr",
     "output_type": "stream",
     "text": [
      "2024-10-07 00:39:55.259784: I tensorflow/core/platform/cpu_feature_guard.cc:210] This TensorFlow binary is optimized to use available CPU instructions in performance-critical operations.\n",
      "To enable the following instructions: AVX2 FMA, in other operations, rebuild TensorFlow with the appropriate compiler flags.\n"
     ]
    }
   ],
   "source": [
    "import os\n",
    "import shutil\n",
    "import zipfile\n",
    "import json\n",
    "import re\n",
    "import tifffile\n",
    "from PIL import Image, ImageSequence\n",
    "from pdf2image import convert_from_path\n",
    "from PyPDF2 import PdfReader, PdfWriter\n",
    "from concurrent.futures import ThreadPoolExecutor, as_completed\n",
    "import threading\n",
    "import numpy as np\n",
    "import tensorflow as tf\n",
    "\n",
    "tf.get_logger().setLevel('ERROR')\n",
    "from tensorflow import keras\n",
    "from google.cloud import storage\n",
    "from google.api_core.exceptions import GoogleAPIError\n",
    "from requests.exceptions import RequestException\n",
    "import time\n",
    "import fitz\n",
    "import cv2\n",
    "\n",
    "import threading\n",
    "from statistics import mean, stdev\n",
    "import pandas as pd\n",
    "import csv"
   ]
  },
  {
   "cell_type": "code",
   "execution_count": 2,
   "metadata": {},
   "outputs": [],
   "source": [
    "model = keras.models.load_model('save_model/quality_model_80_100.keras')\n",
    "image_size_quality = 480\n",
    "quality_class_name = ['correctos_files', 'incorrectos_files']"
   ]
  },
  {
   "cell_type": "code",
   "execution_count": 3,
   "metadata": {},
   "outputs": [
    {
     "name": "stdout",
     "output_type": "stream",
     "text": [
      "\u001b[1m1/1\u001b[0m \u001b[32m━━━━━━━━━━━━━━━━━━━━\u001b[0m\u001b[37m\u001b[0m \u001b[1m0s\u001b[0m 181ms/step\n"
     ]
    },
    {
     "name": "stderr",
     "output_type": "stream",
     "text": [
      "WARNING: All log messages before absl::InitializeLog() is called are written to STDERR\n",
      "I0000 00:00:1728279597.693750  226487 service.cc:146] XLA service 0x772f38008450 initialized for platform Host (this does not guarantee that XLA will be used). Devices:\n",
      "I0000 00:00:1728279597.693764  226487 service.cc:154]   StreamExecutor device (0): Host, Default Version\n",
      "2024-10-07 00:39:57.698990: I tensorflow/compiler/mlir/tensorflow/utils/dump_mlir_util.cc:268] disabling MLIR crash reproducer, set env var `MLIR_CRASH_REPRODUCER_DIRECTORY` to enable.\n",
      "I0000 00:00:1728279597.791965  226487 device_compiler.h:188] Compiled cluster using XLA!  This line is logged at most once for the lifetime of the process.\n"
     ]
    }
   ],
   "source": [
    "# Load and preprocess the image\n",
    "img = tf.keras.utils.load_img(\"data_calidad_test_no_vistos/correctos_files/544.declarenta (54)_dr_page_001.png\", target_size=(image_size_quality, image_size_quality))\n",
    "img_array = tf.keras.utils.img_to_array(img)\n",
    "img_array = tf.expand_dims(img_array, 0)\n",
    "\n",
    "\n",
    "\n",
    "# Predict the content of the image using the pre-trained model\n",
    "predictions = model.predict(img_array)\n",
    "score = tf.nn.softmax(predictions[0])\n",
    "predict_contenido = quality_class_name[np.argmax(score)]\n",
    "\n",
    "# Move the file to the 'blanks' folder if it is classified as 'sin_contenido'\n",
    "if predict_contenido == 'incorrectos_files':\n",
    "#     new_path = os.path.join(self.quarantine, os.path.basename(file))\n",
    "#     shutil.move(file, new_path)\n",
    "#     self.logger.info(f\"Moved to quarantine: {file}\")\n"
   ]
  },
  {
   "cell_type": "code",
   "execution_count": 4,
   "metadata": {},
   "outputs": [
    {
     "data": {
      "text/plain": [
       "'correctos_files'"
      ]
     },
     "execution_count": 4,
     "metadata": {},
     "output_type": "execute_result"
    }
   ],
   "source": [
    "predict_contenido"
   ]
  },
  {
   "cell_type": "code",
   "execution_count": null,
   "metadata": {},
   "outputs": [],
   "source": []
  },
  {
   "cell_type": "code",
   "execution_count": null,
   "metadata": {},
   "outputs": [],
   "source": []
  },
  {
   "cell_type": "code",
   "execution_count": null,
   "metadata": {},
   "outputs": [],
   "source": []
  }
 ],
 "metadata": {
  "kernelspec": {
   "display_name": "prepro",
   "language": "python",
   "name": "python3"
  },
  "language_info": {
   "codemirror_mode": {
    "name": "ipython",
    "version": 3
   },
   "file_extension": ".py",
   "mimetype": "text/x-python",
   "name": "python",
   "nbconvert_exporter": "python",
   "pygments_lexer": "ipython3",
   "version": "3.9.19"
  }
 },
 "nbformat": 4,
 "nbformat_minor": 2
}
